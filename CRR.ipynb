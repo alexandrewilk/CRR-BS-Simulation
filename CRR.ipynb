{
 "cells": [
  {
   "cell_type": "markdown",
   "id": "6f44a9cf",
   "metadata": {
    "id": "6f44a9cf"
   },
   "source": [
    "# Projet maths 2022 - Q1 a Q10\n",
    "## Mehdi Saidi, Pierre Prudhomme, Alexandre Wilk"
   ]
  },
  {
   "cell_type": "markdown",
   "id": "05285bd2",
   "metadata": {
    "id": "05285bd2"
   },
   "source": [
    "### Premier pricer"
   ]
  },
  {
   "cell_type": "code",
   "execution_count": null,
   "id": "72ebbc47",
   "metadata": {
    "colab": {
     "base_uri": "https://localhost:8080/"
    },
    "id": "72ebbc47",
    "outputId": "899d06cb-ba33-4730-b315-7a60ba6d7c95"
   },
   "outputs": [
    {
     "name": "stdout",
     "output_type": "stream",
     "text": [
      "Le résultat de la question 4 est  26.616941360258558\n"
     ]
    }
   ],
   "source": [
    "import math\n",
    "import scipy.special\n",
    "\n",
    "def pricer1(N, rn, hn, bn, s, f):\n",
    "    q = (rn - bn)/(hn-bn)\n",
    "    res = 0\n",
    "    for k in range(N+1):\n",
    "        res += f(s*((1+hn)**k)*((1+bn)**(N-k)))*scipy.special.comb(N, k)*(q**k)*(1-q)**(N-k) # on implémente la formule trouvée question 2\n",
    "    return res/((1+rn)**N)\n",
    "\n",
    "def f(x):\n",
    "    return max(x-110, 0)\n",
    "\n",
    "\n",
    "print(\"Le résultat de la question 4 est \", pricer1(20, 0.02, 0.05, -0.05, 100, f))"
   ]
  },
  {
   "cell_type": "markdown",
   "id": "e1d628cd",
   "metadata": {
    "id": "e1d628cd"
   },
   "source": [
    "### Second Pricer"
   ]
  },
  {
   "cell_type": "code",
   "execution_count": null,
   "id": "5ea3d379",
   "metadata": {
    "colab": {
     "base_uri": "https://localhost:8080/"
    },
    "id": "5ea3d379",
    "outputId": "d71c88e5-c0bf-41c9-cf2a-978f7cc89825"
   },
   "outputs": [
    {
     "name": "stdout",
     "output_type": "stream",
     "text": [
      "le résultat de la question 6 est 7.063436197239379\n"
     ]
    }
   ],
   "source": [
    "import numpy as np\n",
    "\n",
    "def pricer2(N, rn, hn, bn, s, f):\n",
    "    memoireprix = [] #On créé une matrice pour se souvenir de tout les prix à chaque noeud à chaque étape (utile pour question 6 cf le pdf)\n",
    "    q = (rn - bn)/(hn-bn)\n",
    "    vn = np.zeros(N+1)\n",
    "    for i in range(N+1):\n",
    "        vn[i] = f(s*((1+hn)**(N-i))*(1+bn)**i) #On initie les valeurs de f(Stn) à la fin de l'arbre vn[0] est le prix si l'actif n'a que augmenté\n",
    "    memoireprix.append(vn)                                                                          #vn[n] est le prix si l'actif n'a que diminué\n",
    "    for k in range(N-1, -1, -1):\n",
    "        v = np.zeros(k+1) #On construit l'array qui contient le prix de l'option pour tout les noeuds de l'arbre à l'étape K (il y a k+1 prix)\n",
    "        for j in range(len(v)):\n",
    "            v[j]= (q*memoireprix[-1][j] + (1-q)*memoireprix[-1][j+1])/(1+rn) #On construit Vk a partir de vk+1, sachant que Vk+1[i] corespond au prix\n",
    "        memoireprix.append(v)                                                   # si le cours de l'actif risqué augmente, Vk+1[i+1] corespond au prix\n",
    "    return memoireprix[-1][0]                                                  # si le cours de l'actif risqué diminue (par construction de vn).\n",
    "\n",
    "\n",
    "print(\"le résultat de la question 6 est\",pricer2(3, 0.02, 0.05, -0.05, 100, lambda x : max(x-100, 0)))"
   ]
  },
  {
   "cell_type": "markdown",
   "id": "2115520e",
   "metadata": {
    "id": "2115520e"
   },
   "source": [
    "### Comparaison des 2 pricers"
   ]
  },
  {
   "cell_type": "code",
   "execution_count": null,
   "id": "88e86d06",
   "metadata": {
    "colab": {
     "base_uri": "https://localhost:8080/"
    },
    "id": "88e86d06",
    "outputId": "455d66cd-5e88-44cf-ffde-69e1435be942"
   },
   "outputs": [
    {
     "name": "stdout",
     "output_type": "stream",
     "text": [
      "Le prix trouvé avec le premier pricer est 14.834138253408359\n",
      "Le prix trouvé avec le second pricer est 14.834138253408353\n",
      "Soit une différence entre les 2 de 5.329070518200751e-15\n"
     ]
    }
   ],
   "source": [
    "N = np.random.randint(5, 16)\n",
    "price1 = pricer1(N, 0.02, 0.05, -0.05, 100, f)\n",
    "price2 = pricer2(N, 0.02, 0.05, -0.05, 100, f)\n",
    "print(\"Le prix trouvé avec le premier pricer est\", price1)\n",
    "print(\"Le prix trouvé avec le second pricer est\", price2)\n",
    "print(\"Soit une différence entre les 2 de\", abs(price1-price2))"
   ]
  },
  {
   "cell_type": "markdown",
   "id": "uJU4KT5PAedp",
   "metadata": {
    "id": "uJU4KT5PAedp"
   },
   "source": [
    "### Couverture\n",
    "\n"
   ]
  },
  {
   "cell_type": "code",
   "execution_count": 19,
   "id": "NjDu9HEaAolA",
   "metadata": {
    "colab": {
     "base_uri": "https://localhost:8080/"
    },
    "id": "NjDu9HEaAolA",
    "outputId": "d80a46a7-7a94-48c5-9628-99c3c4f0416c"
   },
   "outputs": [
    {
     "name": "stdout",
     "output_type": "stream",
     "text": [
      "(alpha0, beta0) vaut (0.7961165048543688, -73.42822132151944)\n",
      "Si  le prix de l'actif risqué monte, (alpha1, beta1) vaut: (0.9761904761904762, -91.78527665189932)\n",
      "Si  le prix de l'actif risqué diminue, (alpha1, beta1) vaut: (-0.0, -0.0)\n"
     ]
    }
   ],
   "source": [
    "def f1(x):\n",
    "    return max((x-100),0)\n",
    "\n",
    "def couverture(n,r,h,b,s,f):\n",
    "    q = (r-b)/(h-b)\n",
    "    c = 1/(1+r)\n",
    "    ## couv correspond à un tableau qui contient toutes les couvertures des dates t_0,...,t_n-1\n",
    "    couv = n*[0]\n",
    "    for i in range(n) :\n",
    "        couv[i] = n*[0]\n",
    "    ## v correspond au vecteur des issues finales tout à droite de l'arbre de probavilités\n",
    "    v = (n+1)*[0]\n",
    "    for i in range(n+1):\n",
    "        param = s*((1+h)**(n-i))*((1+b)**i)\n",
    "        v[i] = f(param)\n",
    "    # on calcule les premiers couples (alpha,beta) selon les formules établies à la question 8\n",
    "    for i in range(n) :\n",
    "        st = s*((1+h)**(n-1-i))*((1+b)**i)\n",
    "        alpha = (v[i+1] - v[i])/((b-h)*st)\n",
    "        beta = ((1+b)*v[i] - (1+h)*v[i+1])/((b-h)*(1+r)**n)\n",
    "        couv[n-1][i] = (alpha,beta)\n",
    "    ## on calcule ensuite tous les couples (alpha,beta) en \"remontant\" l'arbre\n",
    "    # pour cela, on décrémente de 1 size qui correspond au nb de couples (alpha,beta) à l'intant t_size\n",
    "    size = n-1\n",
    "    while (size>0) :\n",
    "        tmp = (size+1)*[0]\n",
    "        for i in range(size+1):\n",
    "            tmp[i] = c*(q*v[i]+(1-q)*v[i+1])\n",
    "        v = tmp\n",
    "        for i in range(size) :\n",
    "            st = s*((1+h)**(size-1-i))*((1+b)**i)\n",
    "            # on calcule les couples (alpha,beta) selon les formules établies à la question 9\n",
    "            alpha = (v[i+1] - v[i])/((b-h)*st)\n",
    "            beta = ((1+b)*v[i] - (1+h)*v[i+1])/((b-h)*(1+r)**size)\n",
    "            couv[size-1][i] = (alpha,beta)\n",
    "        size -= 1\n",
    "    # on retourne le tableau des couples (c'est une matrice diagonale supérieure)\n",
    "    return couv\n",
    "\n",
    "couv = couverture(2, 0.03, 0.05, -0.05, 100, f1)\n",
    "print(\"(alpha0, beta0) vaut\", couv[0][0])\n",
    "print(\"Si  le prix de l'actif risqué monte, (alpha1, beta1) vaut:\", couv[1][0])\n",
    "print(\"Si  le prix de l'actif risqué diminue, (alpha1, beta1) vaut:\", couv[1][1])\n"
   ]
  }
 ],
 "metadata": {
  "colab": {
   "collapsed_sections": [],
   "name": "Projet_maths.ipynb",
   "provenance": []
  },
  "kernelspec": {
   "display_name": "Python 3",
   "language": "python",
   "name": "python3"
  },
  "language_info": {
   "codemirror_mode": {
    "name": "ipython",
    "version": 3
   },
   "file_extension": ".py",
   "mimetype": "text/x-python",
   "name": "python",
   "nbconvert_exporter": "python",
   "pygments_lexer": "ipython3",
   "version": "3.8.8"
  }
 },
 "nbformat": 4,
 "nbformat_minor": 5
}
